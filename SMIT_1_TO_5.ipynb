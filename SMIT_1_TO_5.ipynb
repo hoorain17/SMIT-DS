{
  "nbformat": 4,
  "nbformat_minor": 0,
  "metadata": {
    "colab": {
      "provenance": []
    },
    "kernelspec": {
      "name": "python3",
      "display_name": "Python 3"
    },
    "language_info": {
      "name": "python"
    }
  },
  "cells": [
    {
      "cell_type": "markdown",
      "source": [
        "**Task 1: Variables and Data Type**"
      ],
      "metadata": {
        "id": "pU16eaneZMjL"
      }
    },
    {
      "cell_type": "code",
      "execution_count": null,
      "metadata": {
        "colab": {
          "base_uri": "https://localhost:8080/"
        },
        "id": "tm2kpdMjY1bJ",
        "outputId": "6464504f-c423-4476-e649-a0c38c59f5d5"
      },
      "outputs": [
        {
          "output_type": "stream",
          "name": "stdout",
          "text": [
            "The value of age (varibale) is: 48\n",
            "The value of height is (float variable)is: 5.2\n",
            "The value of name (String)is: Nasreen Mahtab\n",
            "The value of is_student (Boolean)is: True\n"
          ]
        }
      ],
      "source": [
        "# Task 1: Variables and Data Types\n",
        "\n",
        "# Integer variable\n",
        "age = 48\n",
        "print(\"The value of age (varibale) is:\", age)\n",
        "\n",
        "# Float variable\n",
        "height = 5.2\n",
        "print(\"The value of height is (float variable)is:\",height)\n",
        "\n",
        "# String variable\n",
        "name = \"Nasreen Mahtab\"\n",
        "print (\"The value of name (String)is:\", name)\n",
        "\n",
        "# Boolean variable\n",
        "is_student = True\n",
        "print(\"The value of is_student (Boolean)is:\", is_student)\n"
      ]
    },
    {
      "cell_type": "markdown",
      "source": [
        "**Task 2: Operators and Expressions in Python:**"
      ],
      "metadata": {
        "id": "_-8otUI2ZOaK"
      }
    },
    {
      "cell_type": "code",
      "source": [
        "# Task 2: Operators and Expressions\n",
        "\n",
        "# Arithmetic Operators\n",
        "num1 = 3\n",
        "num2 = 10\n",
        "\n",
        "# Addition\n",
        "addition = num1 + num2\n",
        "print(\"Addition:\", addition)\n",
        "\n",
        "# Subtraction\n",
        "subtraction = num1 - num2\n",
        "print(\"Subtraction:\", subtraction)\n",
        "\n",
        "# Multiplication\n",
        "multiplication = num1 * num2\n",
        "print(\"Multiplication:\", multiplication)\n",
        "\n",
        "# Division\n",
        "division = num1 / num2\n",
        "print(\"Division:\", division)\n",
        "\n",
        "# Modulus\n",
        "modulus = num1 % num2\n",
        "print(\"Modulus:\",modulus)\n",
        "\n",
        "# Comparison Expressions\n",
        "is_equal = num1 == num2\n",
        "print(\"is num1 equals to num2?\", is_equal)\n",
        "\n",
        "is_greater = num1 > num2\n",
        "print(\"is num1 greater than num2?\", is_greater)\n",
        "\n",
        "is_less_or_equal = num1 <= num2\n",
        "print(\"is num1 less than or equal than num2?\", is_less_or_equal)\n"
      ],
      "metadata": {
        "colab": {
          "base_uri": "https://localhost:8080/"
        },
        "id": "ZgPJRfIxZGGS",
        "outputId": "c5841537-0d11-4ce4-c458-5b5b18ecaa7b"
      },
      "execution_count": null,
      "outputs": [
        {
          "output_type": "stream",
          "name": "stdout",
          "text": [
            "Addition: 13\n",
            "Subtraction: -7\n",
            "Multiplication: 30\n",
            "Division: 0.3\n",
            "Modulus: 3\n",
            "is num1 equals to num2? False\n",
            "is num1 greater than num2? False\n",
            "is num1 less than or equal than num2? True\n"
          ]
        }
      ]
    },
    {
      "cell_type": "markdown",
      "source": [
        "**Task 3: Simple Calculator in Python:**"
      ],
      "metadata": {
        "id": "-PFaKAhUZlpS"
      }
    },
    {
      "cell_type": "code",
      "source": [
        "# Task 3: Simple Calculator\n",
        "\n",
        "# Taking input from the user\n",
        "num1 = float(input(\"Enter the first number: \"))\n",
        "num2 = float(input(\"Enter the second number: \"))\n",
        "\n",
        "# Performing calculations\n",
        "sum_result = num1 + num2\n",
        "difference = num1 - num2\n",
        "product = num1 * num2\n",
        "quotient = num1 / num2 if num2 != 0 else \"Undefined (division by zero)\"\n",
        "\n",
        "# Printing the results\n",
        "print(\"\\n--- Simple Calculator Results ---\")\n",
        "print(\"Sum:\", sum_result)\n",
        "print(\"Difference:\", difference)\n",
        "print(\"Product:\", product)\n",
        "print(\"Quotient:\", quotient)\n"
      ],
      "metadata": {
        "colab": {
          "base_uri": "https://localhost:8080/"
        },
        "id": "B09oeiHnZnOP",
        "outputId": "c6631ace-f565-4cb7-b82c-9c7692876952"
      },
      "execution_count": null,
      "outputs": [
        {
          "output_type": "stream",
          "name": "stdout",
          "text": [
            "Enter the first number: 6\n",
            "Enter the second number: 7\n",
            "\n",
            "--- Simple Calculator Results ---\n",
            "Sum: 13.0\n",
            "Difference: -1.0\n",
            "Product: 42.0\n",
            "Quotient: 0.8571428571428571\n"
          ]
        }
      ]
    },
    {
      "cell_type": "markdown",
      "source": [
        "**Bonus Task: Even or Odd Checker in Python:**"
      ],
      "metadata": {
        "id": "XlAIssPOZsGd"
      }
    },
    {
      "cell_type": "code",
      "source": [
        "# Bonus Task: Check if a number is even or odd\n",
        "\n",
        "# Taking input from the user\n",
        "number = int(input(\"Enter a number: \"))\n",
        "\n",
        "# Checking using modulo operator\n",
        "if number % 2 == 0:\n",
        "    print(f\"The number {number} is Even.\")\n",
        "else:\n",
        "    print(f\"The number {number} is Odd.\")\n"
      ],
      "metadata": {
        "id": "sfxRidbjZ2Y5",
        "outputId": "5f2887a9-43a1-4a43-d392-9cf933fa2a32",
        "colab": {
          "base_uri": "https://localhost:8080/"
        }
      },
      "execution_count": null,
      "outputs": [
        {
          "output_type": "stream",
          "name": "stdout",
          "text": [
            "Enter a number: 7\n",
            "The number 7 is Odd.\n"
          ]
        }
      ]
    }
  ]
}